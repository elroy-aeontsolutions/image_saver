{
  "cells": [
    {
      "attachments": {},
      "cell_type": "markdown",
      "metadata": {},
      "source": [
        "# Scrape and Save\n",
        "This notebook was written to automate the scraping and saving of images from the internet."
      ]
    },
    {
      "attachments": {},
      "cell_type": "markdown",
      "metadata": {},
      "source": [
        "Import the relevant modules."
      ]
    },
    {
      "cell_type": "code",
      "execution_count": null,
      "metadata": {},
      "outputs": [],
      "source": [
        "pip install webdriver-manager"
      ]
    },
    {
      "cell_type": "code",
      "execution_count": null,
      "metadata": {
        "colab": {
          "base_uri": "https://localhost:8080/",
          "height": 235
        },
        "id": "TwbZjR86wQDD",
        "outputId": "2c432732-6f1a-4065-9dcb-17a2c54f2834"
      },
      "outputs": [],
      "source": [
        "import requests\n",
        "from bs4 import BeautifulSoup\n",
        "import os\n",
        "from selenium import webdriver \n",
        "from selenium.webdriver.chrome.service import Service\n",
        "from webdriver_manager.chrome import ChromeDriverManager\n",
        "from selenium.webdriver.common.keys import Keys\n",
        "from selenium.webdriver.common.by import By\n",
        "from selenium.webdriver.support.ui import WebDriverWait\n",
        "from selenium.webdriver.support import expected_conditions as EC"
      ]
    },
    {
      "attachments": {},
      "cell_type": "markdown",
      "metadata": {},
      "source": [
        "The next step is to get the html as text from the url."
      ]
    },
    {
      "cell_type": "code",
      "execution_count": null,
      "metadata": {},
      "outputs": [],
      "source": [
        "driver = webdriver.Chrome(service=Service(ChromeDriverManager().install()))\n",
        "\n",
        "url = \"https://www.thecarconnection.com/cars/acura_ilx\"\n",
        "remove = \"https://images.hgmsites.net/tmb/\"\n",
        "driver.get(url)"
      ]
    },
    {
      "attachments": {},
      "cell_type": "markdown",
      "metadata": {},
      "source": [
        "Next, we use BeautifulSoup to parse the html text data for the image links and then save them in a list."
      ]
    },
    {
      "cell_type": "code",
      "execution_count": null,
      "metadata": {},
      "outputs": [],
      "source": [
        "driver.execute_script(\"window.scrollTo(0, 0);\")\n",
        "\n",
        "html = driver.page_source\n",
        "soup = BeautifulSoup(html, 'html.parser')\n",
        "containers = soup.findAll('div', {'class':\"isv-r PNCib MSM1fd BUooTd\"} )"
      ]
    },
    {
      "attachments": {},
      "cell_type": "markdown",
      "metadata": {},
      "source": [
        "os is used to a make the folder into which the files will be saved. A list of directory names corresponding to the category of images should be created."
      ]
    },
    {
      "cell_type": "code",
      "execution_count": null,
      "metadata": {},
      "outputs": [],
      "source": [
        "os.getcwd()"
      ]
    },
    {
      "cell_type": "code",
      "execution_count": null,
      "metadata": {},
      "outputs": [],
      "source": [
        "dirs = ['c:\\\\Users\\\\ashle\\\\OneDrive\\\\Documents\\\\GitHub\\\\image_saver\\\\images2']\n",
        "image_elements = []"
      ]
    },
    {
      "cell_type": "code",
      "execution_count": null,
      "metadata": {},
      "outputs": [],
      "source": [
        "# find the \"Makes\" dropdown and click it, get a list and iterate through each of them\n",
        "makes_dropdown = WebDriverWait(driver, 60).until(\n",
        "    EC.presence_of_element_located((By.XPATH, \"\"\"//*[@id=\"save-new-car\"]/span[1]/span\"\"\"))\n",
        ")\n",
        "makes_dropdown.click()\n",
        "\n",
        "makes = makes_dropdown.find_elements(By.XPATH, \"\"\"//*[@id=\"save-new-car\"]/span[1]/span\"\"\")\n",
        "for make in makes:\n",
        "    make.click()"
      ]
    },
    {
      "cell_type": "code",
      "execution_count": null,
      "metadata": {},
      "outputs": [],
      "source": [
        "# find the \"Models\" dropdown and click it, get a list and iterate through each of them\n",
        "models_dropdown = WebDriverWait(driver, 60).until(\n",
        "        EC.presence_of_element_located((By.XPATH, \"\"\"//*[@id=\"save-new-car\"]/span[2]/span\"\"\"))\n",
        "    )\n",
        "models_dropdown.click()\n",
        "\n",
        "models = models_dropdown.find_elements(By.TAG_NAME, \"\"\"//*[@id=\"save-new-car\"]/span[2]/span\"\"\")\n",
        "for model in models:\n",
        "    model.click()"
      ]
    },
    {
      "cell_type": "code",
      "execution_count": null,
      "metadata": {},
      "outputs": [],
      "source": [
        " # find the \"Years\" dropdown and click it, get a list and iterate through each of them\n",
        "years_dropdown = WebDriverWait(driver, 60).until(\n",
        "            EC.presence_of_element_located((By.XPATH, \"\"\"//*[@id=\"save-new-car\"]/span[3]/span\"\"\"))\n",
        "        )\n",
        "years_dropdown.click()\n",
        "        \n",
        "years = years_dropdown.find_elements(By.TAG_NAME, \"\"\"//*[@id=\"save-new-car\"]/span[3]/span\"\"\")\n",
        "for year in years:\n",
        "    year.click()\n",
        "            "
      ]
    },
    {
      "cell_type": "code",
      "execution_count": null,
      "metadata": {},
      "outputs": [],
      "source": [
        "#GO\n",
        "go_button = WebDriverWait(driver, 60).until(\n",
        "            EC.presence_of_element_located((By.XPATH, \"\"\"//*[@id=\"research-dd\"]/div/a\"\"\"))\n",
        "        )\n",
        "go_button.click()"
      ]
    },
    {
      "attachments": {},
      "cell_type": "markdown",
      "metadata": {},
      "source": [
        "Finally, iterating through the list of image urls, download and save the images in the appropriate directory. "
      ]
    },
    {
      "attachments": {},
      "cell_type": "markdown",
      "metadata": {},
      "source": [
        "Images on page are: thumb (tmb), small, medium, large and huge. --> There is only one clear large image per page \n",
        "\n",
        "**Issue: only downloading one image per page - need to navigate through each page using sel commands BUT still not sure how to exclude images showing the interior or accessories**\n",
        "\n",
        "Another option would be to chnage size of small images , but will lose definition in doing so..."
      ]
    },
    {
      "cell_type": "code",
      "execution_count": null,
      "metadata": {},
      "outputs": [],
      "source": [
        "image_elements_with_tmb = soup.find('div', {'class':\"image\"})\n",
        "print(image_elements_with_tmb['data-image-large'])\n",
        "image_elements.append(image_elements_with_tmb)\n",
        "# for img in image_elements_with_tmb:\n",
        "\n",
        "#     if img.has_attr('data-image-large'): #and not img['src'].startswith(remove):\n",
        "#         # print(img['data-image-large'])\n",
        "#         image_elements.append(img)\n",
        "        "
      ]
    },
    {
      "cell_type": "code",
      "execution_count": null,
      "metadata": {},
      "outputs": [],
      "source": [
        "img_urls = []\n",
        "for element in image_elements:\n",
        "     img_urls.append(element['src'])  "
      ]
    },
    {
      "cell_type": "code",
      "execution_count": null,
      "metadata": {},
      "outputs": [],
      "source": [
        "for i, url in enumerate(img_urls):\n",
        "  try: response = requests.get(url)\n",
        "  except: pass\n",
        "  \n",
        "  if response.status_code:\n",
        "    with open('{0}/test_save_{1}.png'.format(dirs[0], i), 'wb') as fp:\n",
        "          fp.write(response.content)"
      ]
    },
    {
      "attachments": {},
      "cell_type": "markdown",
      "metadata": {},
      "source": [
        "# Saving to Google Cloud\n",
        "\n",
        "1. Install gcloud https://cloud.google.com/sdk/docs/install#installation_instructions. \n",
        "\n",
        "2. Follow the instructions here https://cloud.google.com/docs/authentication/provide-credentials-adc#local-dev. \n",
        "\n",
        "3. Follow the instructions at https://cloud.google.com/docs/authentication/client-libraries to set up Google API credentials."
      ]
    },
    {
      "cell_type": "code",
      "execution_count": null,
      "metadata": {},
      "outputs": [],
      "source": [
        "from google.cloud import storage\n",
        "import glob\n",
        "\n",
        "project_id = 'vehicle-recognition-model'\n",
        "\n",
        "storage_client = storage.Client(project=project_id)\n",
        "\n",
        "bucket_name = 'vehicle-recognition-model'\n",
        "\n",
        "bucket = storage_client.get_bucket(bucket_name)"
      ]
    },
    {
      "cell_type": "code",
      "execution_count": null,
      "metadata": {},
      "outputs": [],
      "source": [
        "for str_path_file in glob.glob(dirs[0] + '/**'):\n",
        "    blob = bucket.blob(str_path_file)\n",
        "    blob.upload_from_filename(str_path_file)"
      ]
    },
    {
      "attachments": {},
      "cell_type": "markdown",
      "metadata": {},
      "source": [
        "We'll need to change this script in the following ways\n",
        "\n",
        "\n",
        "* It will need to be able to download text from an accessible website or google images; https://www.thecarconnection.com/ is not accessible via this method.\n",
        "* Depending on the website, the script may need to be able to perform searches \n",
        "* We will need to direct it to save the images in a Google Cloud bucket directory.\n",
        "* Filter out unneccsary images\n",
        "* How much is too much to download at a time\n",
        "* Upload directly to cloud bucket\n"
      ]
    }
  ],
  "metadata": {
    "colab": {
      "provenance": []
    },
    "kernelspec": {
      "display_name": "Python 3",
      "language": "python",
      "name": "python3"
    },
    "language_info": {
      "codemirror_mode": {
        "name": "ipython",
        "version": 3
      },
      "file_extension": ".py",
      "mimetype": "text/x-python",
      "name": "python",
      "nbconvert_exporter": "python",
      "pygments_lexer": "ipython3",
      "version": "3.10.6 (tags/v3.10.6:9c7b4bd, Aug  1 2022, 21:53:49) [MSC v.1932 64 bit (AMD64)]"
    },
    "vscode": {
      "interpreter": {
        "hash": "8c707f9c47bb1603f59a231bff20024eaf1a52ea4f14340ea81bd4c0ccbf6f2d"
      }
    }
  },
  "nbformat": 4,
  "nbformat_minor": 0
}
