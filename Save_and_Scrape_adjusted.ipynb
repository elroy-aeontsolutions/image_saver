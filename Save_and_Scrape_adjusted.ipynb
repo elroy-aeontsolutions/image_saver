{
  "cells": [
    {
      "attachments": {},
      "cell_type": "markdown",
      "metadata": {},
      "source": [
        "# Scrape and Save\n",
        "This notebook was written to automate the scraping and saving of images from the internet."
      ]
    },
    {
      "attachments": {},
      "cell_type": "markdown",
      "metadata": {},
      "source": [
        "Import the relevant modules."
      ]
    },
    {
      "cell_type": "code",
      "execution_count": 1,
      "metadata": {
        "colab": {
          "base_uri": "https://localhost:8080/",
          "height": 235
        },
        "id": "TwbZjR86wQDD",
        "outputId": "2c432732-6f1a-4065-9dcb-17a2c54f2834"
      },
      "outputs": [],
      "source": [
        "import requests\n",
        "from bs4 import BeautifulSoup\n",
        "import os\n",
        "from selenium import webdriver\n"
      ]
    },
    {
      "attachments": {},
      "cell_type": "markdown",
      "metadata": {},
      "source": [
        "The next step is to get the html as text from the url."
      ]
    },
    {
      "cell_type": "code",
      "execution_count": 3,
      "metadata": {},
      "outputs": [
        {
          "name": "stderr",
          "output_type": "stream",
          "text": [
            "C:\\Users\\ashle\\AppData\\Local\\Temp\\ipykernel_13016\\3775354912.py:2: DeprecationWarning: executable_path has been deprecated, please pass in a Service object\n",
            "  driver=webdriver.Chrome(chromePath)\n"
          ]
        }
      ],
      "source": [
        "chromePath=r'C:\\Users\\net51\\Documents\\MyPythonScripts\\Drivers\\chromedriver.exe'\n",
        "driver=webdriver.Chrome(chromePath)\n",
        "\n",
        "url = \"https://www.thecarconnection.com/overview/acura_ilx_2022\"\n",
        "driver.get(url)"
      ]
    },
    {
      "attachments": {},
      "cell_type": "markdown",
      "metadata": {},
      "source": [
        "Next, we use BeautifulSoup to parse the html text data for the image links and then save them in a list."
      ]
    },
    {
      "cell_type": "code",
      "execution_count": null,
      "metadata": {},
      "outputs": [],
      "source": [
        "driver.execute_script(\"window.scrollTo(0, 0);\")\n",
        "\n",
        "html = driver.page_source\n",
        "soup = BeautifulSoup(html, 'html.parser')\n",
        "containers = soup.findAll('div', {'class':\"isv-r PNCib MSM1fd BUooTd\"} )"
      ]
    },
    {
      "attachments": {},
      "cell_type": "markdown",
      "metadata": {},
      "source": [
        "os is used to a make the folder into which the files will be saved. A list of directory names corresponding to the category of images should be created."
      ]
    },
    {
      "cell_type": "code",
      "execution_count": null,
      "metadata": {},
      "outputs": [],
      "source": [
        "os.getcwd()"
      ]
    },
    {
      "cell_type": "code",
      "execution_count": null,
      "metadata": {},
      "outputs": [],
      "source": [
        "dirs = ['c:\\\\Users\\\\ashle\\\\OneDrive\\\\Documents\\\\GitHub\\\\image_saver\\\\images2']"
      ]
    },
    {
      "attachments": {},
      "cell_type": "markdown",
      "metadata": {},
      "source": [
        "Finally, iterating through the list of image urls, download and save the images in the appropriate directory. "
      ]
    },
    {
      "cell_type": "code",
      "execution_count": null,
      "metadata": {},
      "outputs": [],
      "source": [
        "image_elements = soup.find_all('img')"
      ]
    },
    {
      "cell_type": "code",
      "execution_count": null,
      "metadata": {},
      "outputs": [],
      "source": [
        "img_urls = []\n",
        "for element in image_elements:\n",
        "     img_urls.append(element['src'])  "
      ]
    },
    {
      "cell_type": "code",
      "execution_count": null,
      "metadata": {},
      "outputs": [],
      "source": [
        "for i, url in enumerate(img_urls):\n",
        "  try: response = requests.get(url)\n",
        "  except: pass\n",
        "  \n",
        "  if response.status_code:\n",
        "    with open('{0}/test_save_{1}.png'.format(dirs[0], i), 'wb') as fp:\n",
        "          fp.write(response.content)"
      ]
    },
    {
      "attachments": {},
      "cell_type": "markdown",
      "metadata": {},
      "source": [
        "# Saving to Google Cloud\n",
        "\n",
        "1. Install gcloud https://cloud.google.com/sdk/docs/install#installation_instructions. \n",
        "\n",
        "2. Follow the instructions here https://cloud.google.com/docs/authentication/provide-credentials-adc#local-dev. \n",
        "\n",
        "3. Follow the instructions at https://cloud.google.com/docs/authentication/client-libraries to set up Google API credentials."
      ]
    },
    {
      "cell_type": "code",
      "execution_count": null,
      "metadata": {},
      "outputs": [],
      "source": [
        "from google.cloud import storage\n",
        "import glob\n",
        "\n",
        "project_id = 'vehicle-recognition-model'\n",
        "\n",
        "storage_client = storage.Client(project=project_id)\n",
        "\n",
        "bucket_name = 'vehicle-recognition-model'\n",
        "\n",
        "bucket = storage_client.get_bucket(bucket_name)"
      ]
    },
    {
      "cell_type": "code",
      "execution_count": null,
      "metadata": {},
      "outputs": [],
      "source": [
        "for str_path_file in glob.glob(dirs[0] + '/**'):\n",
        "    blob = bucket.blob(str_path_file)\n",
        "    blob.upload_from_filename(str_path_file)"
      ]
    },
    {
      "attachments": {},
      "cell_type": "markdown",
      "metadata": {},
      "source": [
        "We'll need to change this script in the following ways\n",
        "\n",
        "\n",
        "* It will need to be able to download text from an accessible website or google images; https://www.thecarconnection.com/ is not accessible via this method.\n",
        "* Depending on the website, the script may need to be able to perform searches \n",
        "* We will need to direct it to save the images in a Google Cloud bucket directory.\n",
        "* Filter out unneccsary images\n",
        "* How much is too much to download at a time\n",
        "* Upload directly to cloud bucket\n"
      ]
    }
  ],
  "metadata": {
    "colab": {
      "provenance": []
    },
    "kernelspec": {
      "display_name": "Python 3",
      "language": "python",
      "name": "python3"
    },
    "language_info": {
      "codemirror_mode": {
        "name": "ipython",
        "version": 3
      },
      "file_extension": ".py",
      "mimetype": "text/x-python",
      "name": "python",
      "nbconvert_exporter": "python",
      "pygments_lexer": "ipython3",
      "version": "3.10.6"
    },
    "vscode": {
      "interpreter": {
        "hash": "8c707f9c47bb1603f59a231bff20024eaf1a52ea4f14340ea81bd4c0ccbf6f2d"
      }
    }
  },
  "nbformat": 4,
  "nbformat_minor": 0
}
